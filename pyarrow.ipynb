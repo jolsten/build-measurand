{
 "cells": [
  {
   "cell_type": "code",
   "execution_count": 3,
   "metadata": {},
   "outputs": [],
   "source": [
    "import numpy as np\n",
    "import pyarrow as pa\n",
    "import pyarrow.compute as pac\n",
    "from build_measurand.component import make_component\n",
    "from tests.conftest import SAMPLE_NDARRAY"
   ]
  },
  {
   "cell_type": "code",
   "execution_count": 4,
   "metadata": {},
   "outputs": [],
   "source": [
    "def numpy_2d_array_to_arrow_table(array: np.ndarray) -> pa.Table:\n",
    "    arrays = [pa.array(col) for col in array.T]\n",
    "    table = pa.Table.from_arrays(arrays, names=[str(i) for i in range(len(arrays))])\n",
    "    return table"
   ]
  },
  {
   "cell_type": "code",
   "execution_count": 5,
   "metadata": {},
   "outputs": [],
   "source": [
    "SAMPLE_PYARRAY = {word_size: numpy_2d_array_to_arrow_table(SAMPLE_NDARRAY[word_size]) for word_size in [8,10,12]}"
   ]
  },
  {
   "cell_type": "code",
   "execution_count": null,
   "metadata": {},
   "outputs": [],
   "source": []
  },
  {
   "cell_type": "code",
   "execution_count": null,
   "metadata": {},
   "outputs": [],
   "source": []
  },
  {
   "cell_type": "code",
   "execution_count": 19,
   "metadata": {},
   "outputs": [
    {
     "ename": "TypeError",
     "evalue": "__init__() takes exactly 0 positional arguments (1 given)",
     "output_type": "error",
     "traceback": [
      "\u001b[1;31m---------------------------------------------------------------------------\u001b[0m",
      "\u001b[1;31mTypeError\u001b[0m                                 Traceback (most recent call last)",
      "\u001b[1;32mc:\\Users\\jolst\\repos\\build-measurand\\pyarrow.ipynb Cell 6\u001b[0m line \u001b[0;36m1\n\u001b[1;32m----> <a href='vscode-notebook-cell:/c%3A/Users/jolst/repos/build-measurand/pyarrow.ipynb#X16sZmlsZQ%3D%3D?line=0'>1</a>\u001b[0m pa\u001b[39m.\u001b[39;49mUInt8Scalar(\u001b[39m1\u001b[39;49m)\n",
      "\u001b[1;31mTypeError\u001b[0m: __init__() takes exactly 0 positional arguments (1 given)"
     ]
    }
   ],
   "source": [
    "pa.scalar(1, type=\"uint8\")"
   ]
  },
  {
   "cell_type": "code",
   "execution_count": 21,
   "metadata": {},
   "outputs": [
    {
     "data": {
      "text/plain": [
       "<pyarrow.lib.ChunkedArray object at 0x0000018F5426B2E0>\n",
       "[\n",
       "  [\n",
       "    240,\n",
       "    240,\n",
       "    240,\n",
       "    240,\n",
       "    240,\n",
       "    ...\n",
       "    240,\n",
       "    240,\n",
       "    240,\n",
       "    240,\n",
       "    240\n",
       "  ]\n",
       "]"
      ]
     },
     "execution_count": 21,
     "metadata": {},
     "output_type": "execute_result"
    }
   ],
   "source": [
    "import pyarrow.compute as pac\n",
    "\n",
    "data = SAMPLE_PYARRAY[8][15-1]\n",
    "\n",
    "def _reverse_bits_paarray(arr: pa.Array, size: int):\n",
    "    result = pa.chunked_array([\n",
    "        np.zeros(len(chunk), dtype=np.uint8)\n",
    "        for chunk in arr.chunks\n",
    "    ])\n",
    "    for i in range(size):\n",
    "        result = pac.add(result, pac.bit_wise_and(arr, 1))\n",
    "        if i < size - 1:\n",
    "            result = pac.shift_left(result, 1)\n",
    "            arr = pac.shift_right(arr, 1)\n",
    "    return result\n",
    "\n",
    "_reverse_bits_paarray(data, 8)"
   ]
  },
  {
   "cell_type": "code",
   "execution_count": null,
   "metadata": {},
   "outputs": [],
   "source": []
  },
  {
   "cell_type": "code",
   "execution_count": 12,
   "metadata": {},
   "outputs": [
    {
     "data": {
      "text/plain": [
       "<pyarrow.lib.ChunkedArray object at 0x000002684A667560>\n",
       "[\n",
       "  [\n",
       "    2,\n",
       "    2,\n",
       "    2,\n",
       "    2,\n",
       "    2,\n",
       "    ...\n",
       "    2,\n",
       "    2,\n",
       "    2,\n",
       "    2,\n",
       "    2\n",
       "  ]\n",
       "]"
      ]
     },
     "execution_count": 12,
     "metadata": {},
     "output_type": "execute_result"
    }
   ],
   "source": []
  },
  {
   "cell_type": "code",
   "execution_count": null,
   "metadata": {},
   "outputs": [],
   "source": []
  },
  {
   "cell_type": "code",
   "execution_count": null,
   "metadata": {},
   "outputs": [],
   "source": []
  },
  {
   "cell_type": "code",
   "execution_count": 16,
   "metadata": {},
   "outputs": [
    {
     "ename": "",
     "evalue": "",
     "output_type": "error",
     "traceback": [
      "\u001b[1;31mThe Kernel crashed while executing code in the the current cell or a previous cell. Please review the code in the cell(s) to identify a possible cause of the failure. Click <a href='https://aka.ms/vscodeJupyterKernelCrash'>here</a> for more info. View Jupyter <a href='command:jupyter.viewOutput'>log</a> for further details."
     ]
    }
   ],
   "source": [
    "from functools import cached_property\n",
    "from typing import Optional\n",
    "from pydantic import BaseModel, Field\n",
    "from build_measurand.utils import _size_to_uint, _reverse_bits\n",
    "import pyarrow.compute as pac\n",
    "\n",
    "class Component(BaseModel):\n",
    "    word: int = Field(frozen=True)\n",
    "    mask: Optional[int] = Field(default=None, frozen=True)\n",
    "    shift: int = Field(default=0, frozen=True)\n",
    "    reverse: bool = Field(default=False, frozen=True)\n",
    "    one_based: bool = Field(default=True, frozen=True)\n",
    "    word_size: int = Field(default=8, frozen=True)\n",
    "\n",
    "    @classmethod\n",
    "    def from_spec(\n",
    "        cls, spec: str, word_size: int = 8, one_based: bool = True\n",
    "    ) -> \"Component\":\n",
    "        return make_component(spec=spec, word_size=word_size, one_based=one_based)\n",
    "\n",
    "    @cached_property\n",
    "    def size(self) -> int:\n",
    "        if self.mask:\n",
    "            return f\"{self.mask:b}\".count(\"1\")\n",
    "        return self.word_size\n",
    "\n",
    "    def __eq__(self, other: \"Component\") -> bool:\n",
    "        return all(\n",
    "            [\n",
    "                self.word == other.word,\n",
    "                self.mask == other.mask,\n",
    "                self.shift == other.shift,\n",
    "                self.reverse == other.reverse,\n",
    "                self.word_size == other.word_size,\n",
    "            ]\n",
    "        )\n",
    "\n",
    "    def build_ndarray(self, data: np.ndarray) -> np.ndarray:\n",
    "        uint_dtype = _size_to_uint(self.word_size)\n",
    "        tmp = data[:, self.word]\n",
    "\n",
    "        if self.mask:\n",
    "            mask = np.array([self.mask], dtype=uint_dtype)\n",
    "            tmp = np.bitwise_and(tmp, mask)\n",
    "\n",
    "        rshift = np.array([self.shift], dtype=uint_dtype)\n",
    "        if rshift:\n",
    "            tmp = np.right_shift(tmp, np.uint8(rshift))\n",
    "\n",
    "        if self.reverse:\n",
    "            tmp = _reverse_bits(tmp, self.size)\n",
    "\n",
    "        return tmp\n",
    "\n",
    "    def build_pytable(self, data: pa.Table) -> pa.array:\n",
    "        uint_dtype = _size_to_uint(self.word_size)\n",
    "\n",
    "        tmp = data[self.word]\n",
    "\n",
    "        if self.mask:\n",
    "            mask = pa.array([self.mask], dtype=uint_dtype)\n",
    "            tmp = pac.bit_wise_and(SAMPLE_PYARRAY[8][1], mask)\n",
    "        \n",
    "        rshift = np.array([self.shift], dtype=uint_dtype)\n",
    "        if rshift:\n",
    "            tmp = pac.shift_right(tmp, np.uint8(rshift))\n",
    "        \n",
    "        return tmp"
   ]
  },
  {
   "cell_type": "code",
   "execution_count": null,
   "metadata": {},
   "outputs": [],
   "source": []
  }
 ],
 "metadata": {
  "kernelspec": {
   "display_name": ".venv",
   "language": "python",
   "name": "python3"
  },
  "language_info": {
   "codemirror_mode": {
    "name": "ipython",
    "version": 3
   },
   "file_extension": ".py",
   "mimetype": "text/x-python",
   "name": "python",
   "nbconvert_exporter": "python",
   "pygments_lexer": "ipython3",
   "version": "3.11.4"
  },
  "orig_nbformat": 4
 },
 "nbformat": 4,
 "nbformat_minor": 2
}

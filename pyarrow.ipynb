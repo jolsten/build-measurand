{
 "cells": [
  {
   "cell_type": "code",
   "execution_count": 2,
   "metadata": {},
   "outputs": [],
   "source": [
    "import numpy as np\n",
    "import pyarrow as pa\n",
    "from build_measurand.component import make_component\n",
    "from tests.conftest import SAMPLE_NDARRAY"
   ]
  },
  {
   "cell_type": "code",
   "execution_count": 3,
   "metadata": {},
   "outputs": [],
   "source": [
    "def numpy_2d_array_to_arrow_table(array: np.ndarray) -> pa.Table:\n",
    "    arrays = [pa.array(col) for col in array.T]\n",
    "    table = pa.Table.from_arrays(arrays, names=[str(i) for i in range(len(arrays))])\n",
    "    return table"
   ]
  },
  {
   "cell_type": "code",
   "execution_count": 4,
   "metadata": {},
   "outputs": [],
   "source": [
    "SAMPLE_PYARRAY = {word_size: numpy_2d_array_to_arrow_table(SAMPLE_NDARRAY[word_size]) for word_size in [8,10,12]}"
   ]
  },
  {
   "cell_type": "code",
   "execution_count": 30,
   "metadata": {},
   "outputs": [
    {
     "data": {
      "text/plain": [
       "FixedSizeBinaryType(fixed_size_binary[12])"
      ]
     },
     "execution_count": 30,
     "metadata": {},
     "output_type": "execute_result"
    }
   ],
   "source": [
    "pa.binary(12)"
   ]
  },
  {
   "cell_type": "code",
   "execution_count": 44,
   "metadata": {},
   "outputs": [
    {
     "name": "stdout",
     "output_type": "stream",
     "text": [
      "7 1 1\n",
      "3 1 3\n",
      "1 1 7\n",
      "0 1 15\n",
      "0 0 15\n",
      "0 0 15\n",
      "0 0 15\n",
      "0 0 15\n",
      "uint8\n"
     ]
    }
   ],
   "source": [
    "import pyarrow.compute as pac\n",
    "data = SAMPLE_PYARRAY[8][15-1]\n",
    "result = pa.chunked_array([\n",
    "    np.zeros(len(chunk), dtype=np.uint8)\n",
    "    for chunk in data.chunks\n",
    "])\n",
    "# result = pa.chunked_array(np.zeros(len(data), dtype=np.uint8))\n",
    "for i in range(8):\n",
    "    digit = pac.bit_wise_and(data, np.uint8(1))\n",
    "    result = pac.add(result, pac.shift_left(digit, np.uint8(i)))\n",
    "    data = pac.shift_right(data, np.uint8(1))\n",
    "    print(data[0], digit[0], result[0])\n",
    "print(result.type)"
   ]
  },
  {
   "cell_type": "code",
   "execution_count": null,
   "metadata": {},
   "outputs": [],
   "source": []
  },
  {
   "cell_type": "code",
   "execution_count": 12,
   "metadata": {},
   "outputs": [
    {
     "data": {
      "text/plain": [
       "<pyarrow.lib.ChunkedArray object at 0x000002684A667560>\n",
       "[\n",
       "  [\n",
       "    2,\n",
       "    2,\n",
       "    2,\n",
       "    2,\n",
       "    2,\n",
       "    ...\n",
       "    2,\n",
       "    2,\n",
       "    2,\n",
       "    2,\n",
       "    2\n",
       "  ]\n",
       "]"
      ]
     },
     "execution_count": 12,
     "metadata": {},
     "output_type": "execute_result"
    }
   ],
   "source": []
  },
  {
   "cell_type": "code",
   "execution_count": null,
   "metadata": {},
   "outputs": [],
   "source": []
  },
  {
   "cell_type": "code",
   "execution_count": null,
   "metadata": {},
   "outputs": [],
   "source": []
  },
  {
   "cell_type": "code",
   "execution_count": 16,
   "metadata": {},
   "outputs": [
    {
     "ename": "",
     "evalue": "",
     "output_type": "error",
     "traceback": [
      "\u001b[1;31mThe Kernel crashed while executing code in the the current cell or a previous cell. Please review the code in the cell(s) to identify a possible cause of the failure. Click <a href='https://aka.ms/vscodeJupyterKernelCrash'>here</a> for more info. View Jupyter <a href='command:jupyter.viewOutput'>log</a> for further details."
     ]
    }
   ],
   "source": [
    "from functools import cached_property\n",
    "from typing import Optional\n",
    "from pydantic import BaseModel, Field\n",
    "from build_measurand.utils import _size_to_uint, _reverse_bits\n",
    "import pyarrow.compute as pac\n",
    "\n",
    "class Component(BaseModel):\n",
    "    word: int = Field(frozen=True)\n",
    "    mask: Optional[int] = Field(default=None, frozen=True)\n",
    "    shift: int = Field(default=0, frozen=True)\n",
    "    reverse: bool = Field(default=False, frozen=True)\n",
    "    one_based: bool = Field(default=True, frozen=True)\n",
    "    word_size: int = Field(default=8, frozen=True)\n",
    "\n",
    "    @classmethod\n",
    "    def from_spec(\n",
    "        cls, spec: str, word_size: int = 8, one_based: bool = True\n",
    "    ) -> \"Component\":\n",
    "        return make_component(spec=spec, word_size=word_size, one_based=one_based)\n",
    "\n",
    "    @cached_property\n",
    "    def size(self) -> int:\n",
    "        if self.mask:\n",
    "            return f\"{self.mask:b}\".count(\"1\")\n",
    "        return self.word_size\n",
    "\n",
    "    def __eq__(self, other: \"Component\") -> bool:\n",
    "        return all(\n",
    "            [\n",
    "                self.word == other.word,\n",
    "                self.mask == other.mask,\n",
    "                self.shift == other.shift,\n",
    "                self.reverse == other.reverse,\n",
    "                self.word_size == other.word_size,\n",
    "            ]\n",
    "        )\n",
    "\n",
    "    def build_ndarray(self, data: np.ndarray) -> np.ndarray:\n",
    "        uint_dtype = _size_to_uint(self.word_size)\n",
    "        tmp = data[:, self.word]\n",
    "\n",
    "        if self.mask:\n",
    "            mask = np.array([self.mask], dtype=uint_dtype)\n",
    "            tmp = np.bitwise_and(tmp, mask)\n",
    "\n",
    "        rshift = np.array([self.shift], dtype=uint_dtype)\n",
    "        if rshift:\n",
    "            tmp = np.right_shift(tmp, np.uint8(rshift))\n",
    "\n",
    "        if self.reverse:\n",
    "            tmp = _reverse_bits(tmp, self.size)\n",
    "\n",
    "        return tmp\n",
    "\n",
    "    def build_pytable(self, data: pa.Table) -> pa.array:\n",
    "        uint_dtype = _size_to_uint(self.word_size)\n",
    "\n",
    "        tmp = data[self.word]\n",
    "\n",
    "        if self.mask:\n",
    "            mask = pa.array([self.mask], dtype=uint_dtype)\n",
    "            tmp = pac.bit_wise_and(SAMPLE_PYARRAY[8][1], mask)\n",
    "        \n",
    "        rshift = np.array([self.shift], dtype=uint_dtype)\n",
    "        if rshift:\n",
    "            tmp = pac.shift_right(tmp, np.uint8(rshift))\n",
    "        \n",
    "        return tmp"
   ]
  },
  {
   "cell_type": "code",
   "execution_count": null,
   "metadata": {},
   "outputs": [],
   "source": []
  }
 ],
 "metadata": {
  "kernelspec": {
   "display_name": ".venv",
   "language": "python",
   "name": "python3"
  },
  "language_info": {
   "codemirror_mode": {
    "name": "ipython",
    "version": 3
   },
   "file_extension": ".py",
   "mimetype": "text/x-python",
   "name": "python",
   "nbconvert_exporter": "python",
   "pygments_lexer": "ipython3",
   "version": "3.10.1"
  },
  "orig_nbformat": 4
 },
 "nbformat": 4,
 "nbformat_minor": 2
}
